{
 "cells": [
  {
   "cell_type": "code",
   "execution_count": 1,
   "metadata": {},
   "outputs": [],
   "source": [
    "import gc\n",
    "import warnings\n",
    "import numpy as np\n",
    "import pandas as pd\n",
    "import matplotlib.pyplot as plt\n",
    "import lightgbm as lgb\n",
    "\n",
    "from utils import timer, reduce_memory_usage\n",
    "from sklearn.linear_model import LogisticRegression\n",
    "from sklearn.model_selection import KFold\n",
    "from sklearn.metrics import roc_auc_score\n",
    "\n",
    "warnings.filterwarnings('ignore')\n",
    "%matplotlib inline"
   ]
  },
  {
   "cell_type": "code",
   "execution_count": 2,
   "metadata": {},
   "outputs": [
    {
     "name": "stdout",
     "output_type": "stream",
     "text": [
      "[Load training data types done in 0.009 s.]\n"
     ]
    }
   ],
   "source": [
    "with timer('Load training data types'):\n",
    "    train_features_dtypes = pd.read_csv('train_features_dtypes_nov_7.csv')\n",
    "    train_features_dtypes = train_features_dtypes.loc[train_features_dtypes['features'] != 'click_time']\n",
    "    feature_dtypes_dict = dict(zip(train_features_dtypes['features'], train_features_dtypes['dtype']))"
   ]
  },
  {
   "cell_type": "code",
   "execution_count": 3,
   "metadata": {},
   "outputs": [
    {
     "name": "stdout",
     "output_type": "stream",
     "text": [
      "Training data size: (15000000, 30)\n",
      "[Load training data done in 47.246 s.]\n"
     ]
    }
   ],
   "source": [
    "with timer('Load training data'):\n",
    "    train = pd.read_csv('train_features_nov_7.csv', dtype=feature_dtypes_dict, usecols=train_features_dtypes['features'].tolist())\n",
    "    print(f'Training data size: {train.shape}')"
   ]
  },
  {
   "cell_type": "code",
   "execution_count": 4,
   "metadata": {},
   "outputs": [
    {
     "data": {
      "text/html": [
       "<div>\n",
       "<style scoped>\n",
       "    .dataframe tbody tr th:only-of-type {\n",
       "        vertical-align: middle;\n",
       "    }\n",
       "\n",
       "    .dataframe tbody tr th {\n",
       "        vertical-align: top;\n",
       "    }\n",
       "\n",
       "    .dataframe thead th {\n",
       "        text-align: right;\n",
       "    }\n",
       "</style>\n",
       "<table border=\"1\" class=\"dataframe\">\n",
       "  <thead>\n",
       "    <tr style=\"text-align: right;\">\n",
       "      <th></th>\n",
       "      <th>ip</th>\n",
       "      <th>app</th>\n",
       "      <th>device</th>\n",
       "      <th>os</th>\n",
       "      <th>channel</th>\n",
       "      <th>is_attributed</th>\n",
       "      <th>click_time_year</th>\n",
       "      <th>click_time_month</th>\n",
       "      <th>click_time_day</th>\n",
       "      <th>click_time_hour</th>\n",
       "      <th>...</th>\n",
       "      <th>ip_os_device_count</th>\n",
       "      <th>ip_os_channel_count</th>\n",
       "      <th>ip_app_device_count</th>\n",
       "      <th>ip_app_channel_count</th>\n",
       "      <th>ip_os_app_device_count</th>\n",
       "      <th>ip_os_app_channel_count</th>\n",
       "      <th>ip_os_device_channel_count</th>\n",
       "      <th>ip_app_device_channel_count</th>\n",
       "      <th>ip_device_os_click_time_prev_diff</th>\n",
       "      <th>ip_app_channel_click_time_prev_diff</th>\n",
       "    </tr>\n",
       "  </thead>\n",
       "  <tbody>\n",
       "    <tr>\n",
       "      <th>0</th>\n",
       "      <td>70712</td>\n",
       "      <td>2</td>\n",
       "      <td>1</td>\n",
       "      <td>32</td>\n",
       "      <td>237</td>\n",
       "      <td>0</td>\n",
       "      <td>2017</td>\n",
       "      <td>11</td>\n",
       "      <td>7</td>\n",
       "      <td>0</td>\n",
       "      <td>...</td>\n",
       "      <td>3</td>\n",
       "      <td>3</td>\n",
       "      <td>82</td>\n",
       "      <td>69</td>\n",
       "      <td>3</td>\n",
       "      <td>3</td>\n",
       "      <td>3</td>\n",
       "      <td>69</td>\n",
       "      <td>NaN</td>\n",
       "      <td>NaN</td>\n",
       "    </tr>\n",
       "    <tr>\n",
       "      <th>1</th>\n",
       "      <td>45892</td>\n",
       "      <td>3</td>\n",
       "      <td>1</td>\n",
       "      <td>25</td>\n",
       "      <td>424</td>\n",
       "      <td>0</td>\n",
       "      <td>2017</td>\n",
       "      <td>11</td>\n",
       "      <td>7</td>\n",
       "      <td>0</td>\n",
       "      <td>...</td>\n",
       "      <td>144</td>\n",
       "      <td>6</td>\n",
       "      <td>318</td>\n",
       "      <td>11</td>\n",
       "      <td>28</td>\n",
       "      <td>4</td>\n",
       "      <td>6</td>\n",
       "      <td>11</td>\n",
       "      <td>NaN</td>\n",
       "      <td>NaN</td>\n",
       "    </tr>\n",
       "    <tr>\n",
       "      <th>2</th>\n",
       "      <td>37774</td>\n",
       "      <td>8</td>\n",
       "      <td>2</td>\n",
       "      <td>13</td>\n",
       "      <td>145</td>\n",
       "      <td>0</td>\n",
       "      <td>2017</td>\n",
       "      <td>11</td>\n",
       "      <td>7</td>\n",
       "      <td>0</td>\n",
       "      <td>...</td>\n",
       "      <td>41</td>\n",
       "      <td>14</td>\n",
       "      <td>15</td>\n",
       "      <td>158</td>\n",
       "      <td>2</td>\n",
       "      <td>14</td>\n",
       "      <td>2</td>\n",
       "      <td>15</td>\n",
       "      <td>0.0</td>\n",
       "      <td>NaN</td>\n",
       "    </tr>\n",
       "    <tr>\n",
       "      <th>3</th>\n",
       "      <td>41179</td>\n",
       "      <td>2</td>\n",
       "      <td>1</td>\n",
       "      <td>13</td>\n",
       "      <td>122</td>\n",
       "      <td>0</td>\n",
       "      <td>2017</td>\n",
       "      <td>11</td>\n",
       "      <td>7</td>\n",
       "      <td>0</td>\n",
       "      <td>...</td>\n",
       "      <td>8</td>\n",
       "      <td>1</td>\n",
       "      <td>15</td>\n",
       "      <td>3</td>\n",
       "      <td>1</td>\n",
       "      <td>1</td>\n",
       "      <td>1</td>\n",
       "      <td>2</td>\n",
       "      <td>NaN</td>\n",
       "      <td>NaN</td>\n",
       "    </tr>\n",
       "    <tr>\n",
       "      <th>4</th>\n",
       "      <td>83111</td>\n",
       "      <td>15</td>\n",
       "      <td>1</td>\n",
       "      <td>8</td>\n",
       "      <td>245</td>\n",
       "      <td>0</td>\n",
       "      <td>2017</td>\n",
       "      <td>11</td>\n",
       "      <td>7</td>\n",
       "      <td>0</td>\n",
       "      <td>...</td>\n",
       "      <td>6</td>\n",
       "      <td>2</td>\n",
       "      <td>50</td>\n",
       "      <td>8</td>\n",
       "      <td>2</td>\n",
       "      <td>2</td>\n",
       "      <td>2</td>\n",
       "      <td>8</td>\n",
       "      <td>NaN</td>\n",
       "      <td>NaN</td>\n",
       "    </tr>\n",
       "  </tbody>\n",
       "</table>\n",
       "<p>5 rows × 30 columns</p>\n",
       "</div>"
      ],
      "text/plain": [
       "      ip  app  device  os  channel  is_attributed  click_time_year  \\\n",
       "0  70712    2       1  32      237              0             2017   \n",
       "1  45892    3       1  25      424              0             2017   \n",
       "2  37774    8       2  13      145              0             2017   \n",
       "3  41179    2       1  13      122              0             2017   \n",
       "4  83111   15       1   8      245              0             2017   \n",
       "\n",
       "   click_time_month  click_time_day  click_time_hour  ...  ip_os_device_count  \\\n",
       "0                11               7                0  ...                   3   \n",
       "1                11               7                0  ...                 144   \n",
       "2                11               7                0  ...                  41   \n",
       "3                11               7                0  ...                   8   \n",
       "4                11               7                0  ...                   6   \n",
       "\n",
       "   ip_os_channel_count  ip_app_device_count  ip_app_channel_count  \\\n",
       "0                    3                   82                    69   \n",
       "1                    6                  318                    11   \n",
       "2                   14                   15                   158   \n",
       "3                    1                   15                     3   \n",
       "4                    2                   50                     8   \n",
       "\n",
       "   ip_os_app_device_count  ip_os_app_channel_count  \\\n",
       "0                       3                        3   \n",
       "1                      28                        4   \n",
       "2                       2                       14   \n",
       "3                       1                        1   \n",
       "4                       2                        2   \n",
       "\n",
       "   ip_os_device_channel_count  ip_app_device_channel_count  \\\n",
       "0                           3                           69   \n",
       "1                           6                           11   \n",
       "2                           2                           15   \n",
       "3                           1                            2   \n",
       "4                           2                            8   \n",
       "\n",
       "   ip_device_os_click_time_prev_diff  ip_app_channel_click_time_prev_diff  \n",
       "0                                NaN                                  NaN  \n",
       "1                                NaN                                  NaN  \n",
       "2                                0.0                                  NaN  \n",
       "3                                NaN                                  NaN  \n",
       "4                                NaN                                  NaN  \n",
       "\n",
       "[5 rows x 30 columns]"
      ]
     },
     "execution_count": 4,
     "metadata": {},
     "output_type": "execute_result"
    }
   ],
   "source": [
    "train.head()"
   ]
  },
  {
   "cell_type": "code",
   "execution_count": 5,
   "metadata": {},
   "outputs": [],
   "source": [
    "categorical_features = ['ip', 'app', 'device', 'os', 'channel']\n",
    "numerical_features = [c for c in train.columns if c.split('_')[-1] in ['count', 'diff']]\n",
    "features = categorical_features.copy() + numerical_features.copy()\n",
    "target = 'is_attributed'"
   ]
  },
  {
   "cell_type": "code",
   "execution_count": 6,
   "metadata": {},
   "outputs": [
    {
     "data": {
      "text/plain": [
       "ip         76268\n",
       "app          384\n",
       "device       999\n",
       "os           295\n",
       "channel      175\n",
       "dtype: int64"
      ]
     },
     "execution_count": 6,
     "metadata": {},
     "output_type": "execute_result"
    }
   ],
   "source": [
    "train[categorical_features].nunique()"
   ]
  },
  {
   "cell_type": "code",
   "execution_count": null,
   "metadata": {},
   "outputs": [],
   "source": [
    "# \"high cardinal\""
   ]
  },
  {
   "cell_type": "code",
   "execution_count": 7,
   "metadata": {},
   "outputs": [],
   "source": [
    "categorical_features.remove('ip')"
   ]
  },
  {
   "cell_type": "markdown",
   "metadata": {},
   "source": [
    "# Logistic Regression"
   ]
  },
  {
   "cell_type": "code",
   "execution_count": 8,
   "metadata": {},
   "outputs": [
    {
     "data": {
      "text/plain": [
       "ip_count                                     0\n",
       "os_count                                     0\n",
       "app_count                                    0\n",
       "device_count                                 0\n",
       "channel_count                                0\n",
       "ip_os_count                                  0\n",
       "ip_app_count                                 0\n",
       "ip_device_count                              0\n",
       "ip_channel_count                             0\n",
       "ip_os_app_count                              0\n",
       "ip_os_device_count                           0\n",
       "ip_os_channel_count                          0\n",
       "ip_app_device_count                          0\n",
       "ip_app_channel_count                         0\n",
       "ip_os_app_device_count                       0\n",
       "ip_os_app_channel_count                      0\n",
       "ip_os_device_channel_count                   0\n",
       "ip_app_device_channel_count                  0\n",
       "ip_device_os_click_time_prev_diff       929241\n",
       "ip_app_channel_click_time_prev_diff    3759524\n",
       "dtype: int64"
      ]
     },
     "execution_count": 8,
     "metadata": {},
     "output_type": "execute_result"
    }
   ],
   "source": [
    "train[numerical_features].isnull().sum()"
   ]
  },
  {
   "cell_type": "code",
   "execution_count": 9,
   "metadata": {},
   "outputs": [
    {
     "data": {
      "text/plain": [
       "ip_device_os_click_time_prev_diff      16123.0\n",
       "ip_app_channel_click_time_prev_diff    16161.0\n",
       "dtype: float64"
      ]
     },
     "execution_count": 9,
     "metadata": {},
     "output_type": "execute_result"
    }
   ],
   "source": [
    "train[numerical_features[-2:]].max()"
   ]
  },
  {
   "cell_type": "code",
   "execution_count": null,
   "metadata": {},
   "outputs": [],
   "source": [
    "max_val = train['ip_device_os_click_time_prev_diff'].max()\n",
    "train['ip_device_os_click_time_prev_diff'] = train['ip_device_os_click_time_prev_diff'].fillna(max_val + 1)\n",
    "\n",
    "max_val = train['ip_app_channel_click_time_prev_diff'].max()\n",
    "train['ip_app_channel_click_time_prev_diff'] = train['ip_app_channel_click_time_prev_diff'].fillna(max_val + 1)"
   ]
  },
  {
   "cell_type": "code",
   "execution_count": null,
   "metadata": {},
   "outputs": [],
   "source": [
    "def run_lr_kfold_cv(X_train, y_train, X_test=None, classifier_params=None, **kwargs):\n",
    "    \"\"\"\n",
    "    Run logistic regression with K folds cross validation\n",
    "    If test data is given, the final prediction (probabilities) for test data are averaged over all folds\n",
    "    :param X_train          : np.array, training data\n",
    "    :param y_train          : np.array, training label\n",
    "    :param X_test           : np.array, test data\n",
    "    :param classifier_params: dict, classifier training parameters\n",
    "    :param kwargs           : other parameters needed\n",
    "    :return:\n",
    "    \"\"\"\n",
    "\n",
    "    folds = kwargs.get('n_folds', 5)\n",
    "    shuffle = kwargs.get('shuffle', True)\n",
    "    random_state = kwargs.get('random_state', 2020)\n",
    "    \n",
    "    # use sklearn KFold\n",
    "    kfold = KFold(n_splits=folds, shuffle=shuffle, random_state=random_state)\n",
    "    oof_preds = np.zeros(y_train.shape[0])\n",
    "    oof_preds_proba = np.zeros(y_train.shape[0])\n",
    "    output = {}\n",
    "    clf_list = []\n",
    "\n",
    "    if classifier_params is None:\n",
    "        classifier_params = {}\n",
    "    if not isinstance(classifier_params, dict):\n",
    "        raise ValueError('Argument `classifier_params` has to be dictionary or None by default.')\n",
    "\n",
    "    for n_fold, (trn_idx, val_idx) in enumerate(kfold.split(X_train, y_train)):\n",
    "        X_train_, X_val_ = X_train[trn_idx], X_train[val_idx]\n",
    "        y_train_, y_val_ = y_train[trn_idx], y_train[val_idx]\n",
    "        \n",
    "        clf = LogisticRegression(**classifier_params)\n",
    "        \n",
    "        # sklearn estimators fixed methods: .fit() - training, .predict() - test / validation\n",
    "        clf.fit(X_train_, y_train_)\n",
    "        oof_preds[val_idx] = clf.predict(X_val_)\n",
    "        oof_preds_proba[val_idx] = clf.predict_proba(X_val_)[:, 1]\n",
    "        \n",
    "        clf_list.append(clf)\n",
    "\n",
    "    # save out-of-fold predictions\n",
    "    output['oof_preds'] = oof_preds\n",
    "    output['oof_preds_proba'] = oof_preds_proba\n",
    "\n",
    "    # run prediction on test data\n",
    "    if X_test is not None:\n",
    "        test_preds_proba = np.zeros(X_test.shape[0])\n",
    "        for clf_ in clf_list:\n",
    "            test_preds_proba += clf_.predict_proba(X_test)[:, 1] / folds\n",
    "        output['test_preds_proba'] = test_preds_proba\n",
    "\n",
    "    return output"
   ]
  },
  {
   "cell_type": "markdown",
   "metadata": {},
   "source": [
    "# LightGBM"
   ]
  },
  {
   "cell_type": "code",
   "execution_count": 14,
   "metadata": {},
   "outputs": [],
   "source": [
    "def run_lgbm_kfold_cv(X_train, y_train, X_test=None, features=None, features_categorical=None, train_params=None, **kwargs):\n",
    "    \"\"\"\n",
    "    Run lightgbm with K folds cross validation\n",
    "    :param X_train              : np.array, training data\n",
    "    :param y_train              : np.array, training label\n",
    "    :param X_test               : np.array, test data\n",
    "    :param train_params         : dict, lightgbm training parameters\n",
    "    :param features             : list (str), features\n",
    "    :param features_categorical : list (str), categorical features\n",
    "    :param kwargs               : other parameters needed for running lightgbm\n",
    "    :return:\n",
    "                                - lightgbm model\n",
    "                                - validation data predictions\n",
    "                                - test data predictions\n",
    "                                - feature importance (gain and split) dataframe\n",
    "    \"\"\"\n",
    "    folds = kwargs.get('n_folds', 5)\n",
    "    shuffle = kwargs.get('shuffle', True)\n",
    "    random_state = kwargs.get('random_state', 2020)\n",
    "    num_boost_round = kwargs.get('num_boost_round', 1000)\n",
    "    early_stopping_rounds = kwargs.get('early_stopping_rounds', 200)\n",
    "    verbose_eval = kwargs.get('verbose_eval', 100)\n",
    "    kfold = KFold(n_splits=folds, shuffle=shuffle, random_state=random_state)\n",
    "    oof_preds = np.zeros(y_train.shape[0])\n",
    "    oof_preds_proba = np.zeros(y_train.shape[0])\n",
    "    output = {}\n",
    "    clf_list = []\n",
    "    \n",
    "    if train_params is None:\n",
    "        train_params = {}\n",
    "\n",
    "    for n_fold, (trn_idx, val_idx) in enumerate(kfold.split(X_train, y_train)):\n",
    "        print(f'\\n\\n\\tRunning fold {n_fold + 1} . . .\\n\\n')\n",
    "        X_train_, X_val_ = X_train[trn_idx], X_train[val_idx]\n",
    "        y_train_, y_val_ = y_train[trn_idx], y_train[val_idx]\n",
    "        \n",
    "        X_train_lgb = lgb.Dataset(X_train_, y_train_, feature_name=features, categorical_feature=features_categorical)\n",
    "        X_val_lgb = lgb.Dataset(X_val_, y_val_, feature_name=features, categorical_feature=features_categorical)\n",
    "        \n",
    "        clf = lgb.train(train_params, train_set=X_train_lgb,\n",
    "                        valid_sets=[X_train_lgb, X_val_lgb],\n",
    "                        num_boost_round=num_boost_round,\n",
    "                        early_stopping_rounds=early_stopping_rounds,\n",
    "                        verbose_eval=verbose_eval)\n",
    "        oof_preds[val_idx] = clf.predict(X_val_, num_iteration=clf.best_iteration)\n",
    "        clf_list.append(clf)\n",
    "\n",
    "    # save out-of-fold predictions\n",
    "    output['oof_preds'] = oof_preds\n",
    "\n",
    "    # run prediction on test data\n",
    "    if X_test is not None:\n",
    "        test_preds_proba = np.zeros(X_test.shape[0])\n",
    "        for clf_ in clf_list:\n",
    "            test_preds_proba += clf_.predict(X_test) / folds\n",
    "        output['test_preds_proba'] = test_preds_proba\n",
    "\n",
    "    return output"
   ]
  },
  {
   "cell_type": "code",
   "execution_count": 11,
   "metadata": {},
   "outputs": [
    {
     "name": "stdout",
     "output_type": "stream",
     "text": [
      "(15000000, 25) (15000000,)\n"
     ]
    }
   ],
   "source": [
    "X_train = train[features].values\n",
    "y_train = train[target].values\n",
    "print(X_train.shape, y_train.shape)"
   ]
  },
  {
   "cell_type": "code",
   "execution_count": 12,
   "metadata": {},
   "outputs": [
    {
     "data": {
      "text/plain": [
       "0"
      ]
     },
     "execution_count": 12,
     "metadata": {},
     "output_type": "execute_result"
    }
   ],
   "source": [
    "# clear space\n",
    "del train\n",
    "gc.collect()"
   ]
  },
  {
   "cell_type": "code",
   "execution_count": 15,
   "metadata": {},
   "outputs": [
    {
     "name": "stdout",
     "output_type": "stream",
     "text": [
      "\n",
      "\n",
      "\tRunning fold 1 . . .\n",
      "\n",
      "\n",
      "Training until validation scores don't improve for 200 rounds.\n",
      "[100]\ttraining's auc: 0.973609\tvalid_1's auc: 0.971338\n",
      "[200]\ttraining's auc: 0.975318\tvalid_1's auc: 0.971585\n",
      "[300]\ttraining's auc: 0.976429\tvalid_1's auc: 0.971192\n",
      "[400]\ttraining's auc: 0.977025\tvalid_1's auc: 0.97036\n",
      "Early stopping, best iteration is:\n",
      "[230]\ttraining's auc: 0.975793\tvalid_1's auc: 0.972141\n",
      "\n",
      "\n",
      "\tRunning fold 2 . . .\n",
      "\n",
      "\n",
      "Training until validation scores don't improve for 200 rounds.\n",
      "[100]\ttraining's auc: 0.973017\tvalid_1's auc: 0.971526\n",
      "[200]\ttraining's auc: 0.975146\tvalid_1's auc: 0.972534\n",
      "[300]\ttraining's auc: 0.976251\tvalid_1's auc: 0.971295\n",
      "Early stopping, best iteration is:\n",
      "[157]\ttraining's auc: 0.974671\tvalid_1's auc: 0.972854\n",
      "\n",
      "\n",
      "\tRunning fold 3 . . .\n",
      "\n",
      "\n",
      "Training until validation scores don't improve for 200 rounds.\n",
      "[100]\ttraining's auc: 0.97383\tvalid_1's auc: 0.971382\n",
      "[200]\ttraining's auc: 0.97547\tvalid_1's auc: 0.971595\n",
      "[300]\ttraining's auc: 0.976487\tvalid_1's auc: 0.970669\n",
      "Early stopping, best iteration is:\n",
      "[118]\ttraining's auc: 0.974499\tvalid_1's auc: 0.972333\n",
      "\n",
      "\n",
      "\tRunning fold 4 . . .\n",
      "\n",
      "\n",
      "Training until validation scores don't improve for 200 rounds.\n",
      "[100]\ttraining's auc: 0.973662\tvalid_1's auc: 0.970165\n",
      "[200]\ttraining's auc: 0.975887\tvalid_1's auc: 0.970327\n",
      "[300]\ttraining's auc: 0.976835\tvalid_1's auc: 0.969775\n",
      "Early stopping, best iteration is:\n",
      "[136]\ttraining's auc: 0.974946\tvalid_1's auc: 0.970743\n",
      "\n",
      "\n",
      "\tRunning fold 5 . . .\n",
      "\n",
      "\n",
      "Training until validation scores don't improve for 200 rounds.\n",
      "[100]\ttraining's auc: 0.973489\tvalid_1's auc: 0.970742\n",
      "[200]\ttraining's auc: 0.975207\tvalid_1's auc: 0.970037\n",
      "Early stopping, best iteration is:\n",
      "[97]\ttraining's auc: 0.973468\tvalid_1's auc: 0.970888\n"
     ]
    }
   ],
   "source": [
    "train_params = {\n",
    "    'metric'           : 'auc',\n",
    "    'learning_rate'    : 0.2,\n",
    "    'max_depth'        : 5,\n",
    "    'num_leaves'       : 31,\n",
    "    'min_data_in_leaf' : 20,\n",
    "    'feature_fraction' : 0.6,\n",
    "    'data_random_seed' : 2020,\n",
    "    'lambda_l1'        : 1,\n",
    "    'lambda_l2'        : 1\n",
    "}\n",
    "output = run_lgbm_kfold_cv(X_train, y_train, features=features, features_categorical=categorical_features, train_params=train_params)"
   ]
  }
 ],
 "metadata": {
  "kernelspec": {
   "display_name": "Python 3",
   "language": "python",
   "name": "python3"
  },
  "language_info": {
   "codemirror_mode": {
    "name": "ipython",
    "version": 3
   },
   "file_extension": ".py",
   "mimetype": "text/x-python",
   "name": "python",
   "nbconvert_exporter": "python",
   "pygments_lexer": "ipython3",
   "version": "3.7.6"
  }
 },
 "nbformat": 4,
 "nbformat_minor": 4
}
