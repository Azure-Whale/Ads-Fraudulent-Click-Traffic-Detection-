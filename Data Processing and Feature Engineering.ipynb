{
 "cells": [
  {
   "cell_type": "markdown",
   "metadata": {},
   "source": []
  },
  {
   "cell_type": "code",
   "execution_count": 1,
   "metadata": {},
   "outputs": [],
   "source": [
    "import os\n",
    "import gc\n",
    "import time\n",
    "import psutil\n",
    "import warnings\n",
    "import numpy as np\n",
    "import pandas as pd\n",
    "\n",
    "from utils import timer, reduce_memory_usage\n",
    "from feature_engineering import extract_datetime_components, add_group_stats\n",
    "\n",
    "warnings.filterwarnings('ignore')"
   ]
  },
  {
   "cell_type": "code",
   "execution_count": 2,
   "metadata": {},
   "outputs": [
    {
     "name": "stdout",
     "output_type": "stream",
     "text": [
      "Training data size: (59633309, 7)\n",
      "[Load full training data done in 75.669 s.]\n"
     ]
    }
   ],
   "source": [
    "with timer('Load full training data'):\n",
    "    nov_7_start = 9308568\n",
    "    nov_7_end   = 68941877\n",
    "\n",
    "    nov_8_start = 68941878\n",
    "    nov_8_end   = 131886952\n",
    "    \n",
    "    read_dtypes = {\n",
    "        'ip':            'uint32',\n",
    "        'app':           'uint16',\n",
    "        'device':        'uint16',\n",
    "        'os':            'uint16',\n",
    "        'channel':       'uint16',\n",
    "        'is_attributed': 'uint8',\n",
    "        'click_id':      'uint32'\n",
    "    }\n",
    "    \n",
    "    train_cols = ['ip', 'app', 'device', 'os', 'channel', 'click_time', 'is_attributed']\n",
    "    \n",
    "    # read data on 11/07\n",
    "    copy_filename = 'train_nov_7.csv'\n",
    "    if not os.path.exists(copy_filename):\n",
    "        train = pd.read_csv('train.csv.zip',\n",
    "                            dtype=read_dtypes,\n",
    "                            skiprows=range(1, nov_7_start + 1),\n",
    "                            nrows=nov_7_end - nov_7_start,\n",
    "                            usecols=train_cols)\n",
    "    else:\n",
    "        train = pd.read_csv(copy_filename,\n",
    "                            dtype=read_dtypes,\n",
    "                            usecols=train_cols)\n",
    "    print(f'Training data size: {train.shape}')"
   ]
  },
  {
   "cell_type": "code",
   "execution_count": 3,
   "metadata": {},
   "outputs": [
    {
     "name": "stdout",
     "output_type": "stream",
     "text": [
      "train_nov_7.csv already saved.\n",
      "[Save a copy of current training data done in 0.001 s.]\n"
     ]
    }
   ],
   "source": [
    "with timer('Save a copy of current training data'):\n",
    "    if not os.path.exists(copy_filename):\n",
    "        train.to_csv(copy_filename, index=False)\n",
    "    else:\n",
    "        print(f'{copy_filename} already saved.')"
   ]
  },
  {
   "cell_type": "code",
   "execution_count": 4,
   "metadata": {},
   "outputs": [
    {
     "name": "stdout",
     "output_type": "stream",
     "text": [
      "(15000000, 7)\n"
     ]
    }
   ],
   "source": [
    "sample_size = 15000000\n",
    "train_subset = train.iloc[:sample_size]\n",
    "print(train_subset.shape)"
   ]
  },
  {
   "cell_type": "code",
   "execution_count": 5,
   "metadata": {},
   "outputs": [
    {
     "name": "stdout",
     "output_type": "stream",
     "text": [
      "[Extract time components done in 18.916 s.]\n"
     ]
    }
   ],
   "source": [
    "with timer('Extract time components'):\n",
    "    train_subset = extract_datetime_components(train_subset, cols=['click_time'])"
   ]
  },
  {
   "cell_type": "code",
   "execution_count": 6,
   "metadata": {},
   "outputs": [
    {
     "name": "stdout",
     "output_type": "stream",
     "text": [
      "<class 'pandas.core.frame.DataFrame'>\n",
      "RangeIndex: 15000000 entries, 0 to 14999999\n",
      "Data columns (total 11 columns):\n",
      " #   Column            Dtype         \n",
      "---  ------            -----         \n",
      " 0   ip                uint32        \n",
      " 1   app               uint16        \n",
      " 2   device            uint16        \n",
      " 3   os                uint16        \n",
      " 4   channel           uint16        \n",
      " 5   click_time        datetime64[ns]\n",
      " 6   is_attributed     uint8         \n",
      " 7   click_time_year   int16         \n",
      " 8   click_time_month  int8          \n",
      " 9   click_time_day    int8          \n",
      " 10  click_time_hour   int8          \n",
      "dtypes: datetime64[ns](1), int16(1), int8(3), uint16(4), uint32(1), uint8(1)\n",
      "memory usage: 371.9 MB\n"
     ]
    }
   ],
   "source": [
    "train_subset.info()"
   ]
  },
  {
   "cell_type": "code",
   "execution_count": 7,
   "metadata": {},
   "outputs": [
    {
     "name": "stdout",
     "output_type": "stream",
     "text": [
      "('ip', 'os', 'app', 'device')\n",
      "('ip', 'os', 'app', 'channel')\n",
      "('ip', 'os', 'device', 'channel')\n",
      "('ip', 'app', 'device', 'channel')\n",
      "('os', 'app', 'device', 'channel')\n"
     ]
    }
   ],
   "source": [
    "from itertools import combinations, permutations\n",
    "\n",
    "categorical_features = ['ip', 'os', 'app', 'device', 'channel']\n",
    "for i in combinations(categorical_features, 4):\n",
    "    print(i)"
   ]
  },
  {
   "cell_type": "code",
   "execution_count": 8,
   "metadata": {},
   "outputs": [],
   "source": [
    "groupby_extraction_setting = [\n",
    "    \n",
    "    # 2 way combination\n",
    "    (['ip'], [('os', 'count')]),\n",
    "    (['os'], [('ip', 'count')]),\n",
    "    (['app'], [('ip', 'count')]),\n",
    "    (['device'], [('ip', 'count')]),\n",
    "    (['channel'], [('ip', 'count')]),\n",
    "    \n",
    "    # 3 way combination\n",
    "    (['ip', 'os'], [('app', 'count')]),\n",
    "    (['ip', 'app'], [('os', 'count')]),\n",
    "    (['ip', 'device'], [('os', 'count')]),\n",
    "    (['ip', 'channel'], [('os', 'count')]),\n",
    "    \n",
    "    # 4 way combination\n",
    "    (['ip', 'os', 'app'], [('device', 'count')]),\n",
    "    (['ip', 'os', 'device'], [('app', 'count')]),\n",
    "    (['ip', 'os', 'channel'], [('app', 'count')]),\n",
    "    (['ip', 'app', 'device'], [('os', 'count')]),\n",
    "    (['ip', 'app', 'channel'], [('os', 'count')]),\n",
    "    \n",
    "    # 5 way combination\n",
    "    (['ip', 'os', 'app', 'device'], [('channel', 'count')]),\n",
    "    (['ip', 'os', 'app', 'channel'], [('device', 'count')]),\n",
    "    (['ip', 'os', 'device', 'channel'], [('app', 'count')]),\n",
    "    (['ip', 'app', 'device', 'channel'], [('os', 'count')])\n",
    "]"
   ]
  },
  {
   "cell_type": "code",
   "execution_count": 9,
   "metadata": {},
   "outputs": [
    {
     "name": "stdout",
     "output_type": "stream",
     "text": [
      "[Extract simple groupby count features done in 596.606 s.]\n"
     ]
    }
   ],
   "source": [
    "with timer('Extract simple groupby count features'):\n",
    "    for setting in groupby_extraction_setting:\n",
    "        cols = setting[0]\n",
    "        for value, method in setting[1]:\n",
    "            train_subset, _ = add_group_stats(train_subset, cols, value, method)"
   ]
  },
  {
   "cell_type": "code",
   "execution_count": 10,
   "metadata": {},
   "outputs": [
    {
     "name": "stdout",
     "output_type": "stream",
     "text": [
      "[Extract groupby timedelta features done in 42.853 s.]\n"
     ]
    }
   ],
   "source": [
    "with timer('Extract groupby timedelta features'):\n",
    "    groupby_extraction_for_timedetla = [\n",
    "        ['ip', 'device', 'os'],\n",
    "        ['ip', 'app', 'channel']\n",
    "    ]\n",
    "\n",
    "    for groupby_cols in groupby_extraction_for_timedetla:\n",
    "        click_time = train_subset[groupby_cols + ['click_time']].sort_values('click_time')\n",
    "        prevfix = '_'.join(groupby_cols)\n",
    "        click_time[f'{prevfix}_click_time_prev'] = click_time.groupby(groupby_cols)['click_time'].shift(1)\n",
    "        train_subset[f'{prevfix}_click_time_prev_diff'] = (click_time['click_time'] - click_time[f'{prevfix}_click_time_prev']).dt.seconds"
   ]
  },
  {
   "cell_type": "code",
   "execution_count": 11,
   "metadata": {},
   "outputs": [
    {
     "name": "stdout",
     "output_type": "stream",
     "text": [
      "<class 'pandas.core.frame.DataFrame'>\n",
      "Int64Index: 15000000 entries, 0 to 14999999\n",
      "Data columns (total 31 columns):\n",
      " #   Column                               Dtype         \n",
      "---  ------                               -----         \n",
      " 0   ip                                   uint32        \n",
      " 1   app                                  uint16        \n",
      " 2   device                               uint16        \n",
      " 3   os                                   uint16        \n",
      " 4   channel                              uint16        \n",
      " 5   click_time                           datetime64[ns]\n",
      " 6   is_attributed                        uint8         \n",
      " 7   click_time_year                      int16         \n",
      " 8   click_time_month                     int8          \n",
      " 9   click_time_day                       int8          \n",
      " 10  click_time_hour                      int8          \n",
      " 11  ip_count                             int32         \n",
      " 12  os_count                             int32         \n",
      " 13  app_count                            int32         \n",
      " 14  device_count                         int32         \n",
      " 15  channel_count                        int32         \n",
      " 16  ip_os_count                          int16         \n",
      " 17  ip_app_count                         int16         \n",
      " 18  ip_device_count                      int32         \n",
      " 19  ip_channel_count                     int16         \n",
      " 20  ip_os_app_count                      int16         \n",
      " 21  ip_os_device_count                   int16         \n",
      " 22  ip_os_channel_count                  int16         \n",
      " 23  ip_app_device_count                  int16         \n",
      " 24  ip_app_channel_count                 int16         \n",
      " 25  ip_os_app_device_count               int16         \n",
      " 26  ip_os_app_channel_count              int16         \n",
      " 27  ip_os_device_channel_count           int16         \n",
      " 28  ip_app_device_channel_count          int16         \n",
      " 29  ip_device_os_click_time_prev_diff    float64       \n",
      " 30  ip_app_channel_click_time_prev_diff  float64       \n",
      "dtypes: datetime64[ns](1), float64(2), int16(13), int32(6), int8(3), uint16(4), uint32(1), uint8(1)\n",
      "memory usage: 1.4 GB\n"
     ]
    }
   ],
   "source": [
    "train_subset.info()"
   ]
  },
  {
   "cell_type": "code",
   "execution_count": 17,
   "metadata": {},
   "outputs": [
    {
     "name": "stdout",
     "output_type": "stream",
     "text": [
      "[Save training features done in 442.977 s.]\n"
     ]
    }
   ],
   "source": [
    "with timer('Save training features'):\n",
    "    features_filename = 'train_features_nov_7.csv'\n",
    "    features_dtype_filename = 'train_features_dtypes_nov_7.csv'\n",
    "    if not os.path.exists(features_filename):\n",
    "        train_subset.to_csv(features_filename, index=False)\n",
    "        train_subset_dtypes = pd.DataFrame(train_subset.dtypes).reset_index()\n",
    "        train_subset_dtypes.columns = ['features', 'dtype']\n",
    "        train_subset_dtypes.to_csv(features_dtype_filename, index=False)\n",
    "    else:\n",
    "        print(f'{features_filename} already saved.')"
   ]
  },
  {
   "cell_type": "code",
   "execution_count": null,
   "metadata": {},
   "outputs": [],
   "source": []
  }
 ],
 "metadata": {
  "kernelspec": {
   "display_name": "Python 3",
   "language": "python",
   "name": "python3"
  },
  "language_info": {
   "codemirror_mode": {
    "name": "ipython",
    "version": 3
   },
   "file_extension": ".py",
   "mimetype": "text/x-python",
   "name": "python",
   "nbconvert_exporter": "python",
   "pygments_lexer": "ipython3",
   "version": "3.6.10"
  }
 },
 "nbformat": 4,
 "nbformat_minor": 4
}
